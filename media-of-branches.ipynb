{
 "cells": [
  {
   "cell_type": "code",
   "execution_count": null,
   "id": "e0d5ba39",
   "metadata": {},
   "outputs": [],
   "source": [
    "import statistics\n",
    "import math\n",
    "import matplotlib.pyplot as plt\n",
    "\n",
    "def load_numbers(filename):\n",
    "    num_list = []\n",
    "    with open(filename, 'r') as f:\n",
    "        for line in f:\n",
    "            num = float(line.strip())\n",
    "            num_list.append(num)\n",
    "    return num_list\n",
    "\n",
    "def calculate_average_and_std(numbers):\n",
    "    n = len(numbers)\n",
    "    mean = sum(numbers) / n\n",
    "    variance = sum((x - mean) ** 2 for x in numbers) / (n - 1)\n",
    "    std_deviation = math.sqrt(variance)\n",
    "    return mean, std_deviation\n",
    "\n",
    "def plot_bar_chart_with_error_bars(labels, values, std_devs):\n",
    "    fig, ax = plt.subplots()\n",
    "    ax.bar(labels, values, yerr=std_devs, align='center', alpha=0.5)\n",
    "    plt.xlabel('File Names')\n",
    "    plt.ylabel('Values')\n",
    "    plt.title('Bar Chart with Error Bars')\n",
    "    plt.errorbar(labels, values, yerr=std_devs, fmt='b.', ecolor='red', elinewidth=2, capsize=10)\n",
    "    plt.show()\n",
    "\n",
    "def main():\n",
    "    file_names = ['file1.txt', 'file2.txt', 'file3.txt', 'file4.txt', 'file5.txt']\n",
    "    values = [load_numbers(filename) for filename in file_names]\n",
    "    avg_values = [calculate_average_and_std(numbers)[0] for numbers in values]\n",
    "    std_devs = [calculate_average_and_std(numbers)[1] for numbers in values]\n",
    "\n",
    "    labels = [f'File {i+1}' for i in range(5)]\n",
    "    plot_bar_chart_with_error_bars(labels, avg_values, std_devs)\n",
    "\n",
    "if __name__ == '__main__':\n",
    "    main()"
   ]
  }
 ],
 "metadata": {
  "kernelspec": {
   "display_name": "Python 3 (ipykernel)",
   "language": "python",
   "name": "python3"
  },
  "language_info": {
   "codemirror_mode": {
    "name": "ipython",
    "version": 3
   },
   "file_extension": ".py",
   "mimetype": "text/x-python",
   "name": "python",
   "nbconvert_exporter": "python",
   "pygments_lexer": "ipython3",
   "version": "3.10.12"
  }
 },
 "nbformat": 4,
 "nbformat_minor": 5
}
