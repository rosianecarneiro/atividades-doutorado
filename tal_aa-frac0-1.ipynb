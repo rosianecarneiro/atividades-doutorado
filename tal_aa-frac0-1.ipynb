import numpy as np
import math
import matplotlib.pyplot as plt 
import scipy 
from scipy.integrate import quad
from scipy.integrate import simps

rho = np.arange(0.075, 0.650, 0.025)
T = np.arange(0.010, 0.101, 0.010)
print(rho)

import scipy.integrate as integrate

def integral_approximation(tal_aa, a, b):
    return (b-a)*np.mean(tal_aa)


#define function of integration
def tal_aa(r):
    return abs(r-1)
#        gr=np.loadtxt('rdfaafrac-0.1-density-'+"{0:.3f}".format(Ps)+'-temp-'+"{0:.3f}".format(Ts)+'.dat', unpack=False)




for Ts in T:
    TAL=[]
# T=0.010
#for Ps in np.arange(0.075,0.675,0.025):
    
    for rhos in rho:
            tal=0
            r=np.loadtxt('rdfaafrac-0.1-density-'+"{0:.3f}".format(rhos)+'-temp-'+"{0:.3f}".format(Ts)+'.dat', usecols=0, unpack=False)
            gr=np.loadtxt('rdfaafrac-0.1-density-'+"{0:.3f}".format(rhos)+'-temp-'+"{0:.3f}".format(Ts)+'.dat', usecols=1, unpack=False)
            #Gr=np.median(gr)
            gr=abs(gr-1)
           # print(gr)
            
            L = math.sqrt(2000/rhos)
            sigma = L*math.sqrt(rhos)



            #define bound of integral
            a = 0
            b = sigma
 
            Tal = integrate.simpson(gr, r)
    
            #Tal = np.median(Tal)
            TAL.append(Tal)       

#np.size(TAL)
    print(TAL)
    print('qqqqqqqqqqqqqqqqqqqqqqqqqqqqqq')
    plt.plot(rho, TAL)
    plt.show()
