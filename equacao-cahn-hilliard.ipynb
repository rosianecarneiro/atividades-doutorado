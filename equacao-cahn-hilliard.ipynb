{
 "cells": [
  {
   "cell_type": "code",
   "execution_count": 1,
   "id": "2cba44f8-6a99-41d1-8982-75869ba3c9d9",
   "metadata": {},
   "outputs": [],
   "source": [
    "import numpy as np\n",
    "import matplotlib.pyplot as plt"
   ]
  },
  {
   "cell_type": "code",
   "execution_count": 34,
   "id": "1ed30b09-5eb2-4fcc-a281-e7acc6a35626",
   "metadata": {},
   "outputs": [
    {
     "ename": "TypeError",
     "evalue": "'float' object is not subscriptable",
     "output_type": "error",
     "traceback": [
      "\u001b[0;31m---------------------------------------------------------------------------\u001b[0m",
      "\u001b[0;31mTypeError\u001b[0m                                 Traceback (most recent call last)",
      "Input \u001b[0;32mIn [34]\u001b[0m, in \u001b[0;36m<cell line: 19>\u001b[0;34m()\u001b[0m\n\u001b[1;32m     19\u001b[0m \u001b[38;5;28;01mfor\u001b[39;00m i \u001b[38;5;129;01min\u001b[39;00m \u001b[38;5;28mrange\u001b[39m(\u001b[38;5;241m1\u001b[39m,nx\u001b[38;5;241m-\u001b[39m\u001b[38;5;241m1\u001b[39m):\n\u001b[1;32m     20\u001b[0m     \u001b[38;5;28;01mfor\u001b[39;00m j \u001b[38;5;129;01min\u001b[39;00m \u001b[38;5;28mrange\u001b[39m(\u001b[38;5;241m1\u001b[39m,ny\u001b[38;5;241m-\u001b[39m\u001b[38;5;241m1\u001b[39m):\n\u001b[0;32m---> 21\u001b[0m         phi_f[i,j] \u001b[38;5;241m=\u001b[39m \u001b[38;5;241m2\u001b[39m \u001b[38;5;241m*\u001b[39m \u001b[43mphi\u001b[49m\u001b[43m[\u001b[49m\u001b[43mi\u001b[49m\u001b[43m,\u001b[49m\u001b[43mj\u001b[49m\u001b[43m]\u001b[49m \u001b[38;5;241m-\u001b[39m phi[i,j] \u001b[38;5;241m*\u001b[39m\u001b[38;5;241m*\u001b[39m \u001b[38;5;241m3\u001b[39m \u001b[38;5;241m+\u001b[39m delta (phi[i\u001b[38;5;241m+\u001b[39m\u001b[38;5;241m1\u001b[39m,j] \u001b[38;5;241m-\u001b[39m \u001b[38;5;241m2\u001b[39m \u001b[38;5;241m*\u001b[39m phi[i,j] \u001b[38;5;241m+\u001b[39m phi[i\u001b[38;5;241m-\u001b[39m\u001b[38;5;241m1\u001b[39m,j] \n\u001b[1;32m     22\u001b[0m                                                            \u001b[38;5;241m+\u001b[39m phi[i,j\u001b[38;5;241m+\u001b[39m\u001b[38;5;241m1\u001b[39m] \u001b[38;5;241m-\u001b[39m \u001b[38;5;241m2\u001b[39m \u001b[38;5;241m*\u001b[39m phi[i,j] \u001b[38;5;241m+\u001b[39m phi[i,j\u001b[38;5;241m-\u001b[39m\u001b[38;5;241m1\u001b[39m])\n",
      "\u001b[0;31mTypeError\u001b[0m: 'float' object is not subscriptable"
     ]
    }
   ],
   "source": [
    "# parametros da caixa\n",
    "dx = 0.5  \n",
    "dy = 0.5 \n",
    "nx = 100\n",
    "ny = 100\n",
    "\n",
    "\n",
    "# iteracao de tempo\n",
    "dt = 100 \n",
    "\n",
    "\n",
    "# constantes\n",
    "alfa = dt / (dx ** 2 + dy ** 2)\n",
    "\n",
    "\n",
    "phi = (np.random.rand() - 0.5) * 0.1\n",
    "\n",
    "# loop i e j\n",
    "for i in range(1,nx-1):\n",
    "    for j in range(1,ny-1):\n",
    "        phi_f[i,j] = 2 * phi[i,j] - phi[i,j] ** 3 + delta (phi[i+1,j] - 2 * phi[i,j] + phi[i-1,j] \n",
    "                                                           + phi[i,j+1] - 2 * phi[i,j] + phi[i,j-1])\n",
    "            "
   ]
  },
  {
   "cell_type": "code",
   "execution_count": 35,
   "id": "e67c88a6",
   "metadata": {},
   "outputs": [
    {
     "data": {
      "image/png": "[encoded data removed]",
      "text/plain": [
       "<Figure size 432x288 with 1 Axes>"
      ]
     },
     "metadata": {
      "needs_background": "light"
     },
     "output_type": "display_data"
    }
   ],
   "source": [
    "import numpy as np\n",
    "import matplotlib.pyplot as plt\n",
    "\n",
    "# Define the Cahn-Hilliard equation\n",
    "def cahn_hilliard(u, dt, dx, D, M):\n",
    "    du = D * (np.roll(u, 1, axis=0) + np.roll(u, -1, axis=0) + np.roll(u, 1, axis=1) + np.roll(u, -1, axis=1) - 4*u) / dx**2 - M * (u**3 - u)\n",
    "    return u + du * dt\n",
    "\n",
    "# Initialize parameters\n",
    "dx = 0.1\n",
    "dt = 0.001\n",
    "T = 100\n",
    "D = 1\n",
    "M = 0.05\n",
    "\n",
    "# Initialize the 2D grid\n",
    "nx = int(1 / dx)\n",
    "ny = nx\n",
    "u = np.random.rand(nx, ny)\n",
    "\n",
    "# Time stepping\n",
    "for t in range(int(T/dt)):\n",
    "    u = cahn_hilliard(u, dt, dx, D, M)\n",
    "\n",
    "# Plot the result\n",
    "plt.imshow(u, cmap='seismic')\n",
    "plt.show()\n"
   ]
  },
  {
   "cell_type": "code",
   "execution_count": null,
   "id": "1541581d",
   "metadata": {},
   "outputs": [],
   "source": []
  }
 ],
 "metadata": {
  "kernelspec": {
   "display_name": "Python 3 (ipykernel)",
   "language": "python",
   "name": "python3"
  },
  "language_info": {
   "codemirror_mode": {
    "name": "ipython",
    "version": 3
   },
   "file_extension": ".py",
   "mimetype": "text/x-python",
   "name": "python",
   "nbconvert_exporter": "python",
   "pygments_lexer": "ipython3",
   "version": "3.10.6"
  }
 },
 "nbformat": 4,
 "nbformat_minor": 5
}
